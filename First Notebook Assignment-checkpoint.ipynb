{
 "cells": [
  {
   "cell_type": "markdown",
   "id": "c6467aa8",
   "metadata": {},
   "source": [
    "\n",
    "# What data type is each of the following (evaluate where necessary)?\n"
   ]
  },
  {
   "cell_type": "code",
   "execution_count": 1,
   "id": "b58f6155",
   "metadata": {},
   "outputs": [
    {
     "name": "stdout",
     "output_type": "stream",
     "text": [
      "5 is of type <class 'int'>\n"
     ]
    }
   ],
   "source": [
    "5    \n",
    "Number1 = 5\n",
    "print(Number1, 'is of type', type(Number1))\n",
    "\n"
   ]
  },
  {
   "cell_type": "code",
   "execution_count": 2,
   "id": "1f57f015",
   "metadata": {},
   "outputs": [
    {
     "name": "stdout",
     "output_type": "stream",
     "text": [
      "5.0 is of type <class 'float'>\n"
     ]
    }
   ],
   "source": [
    "5.0\n",
    "Number2 = 5.0\n",
    "print(Number2, 'is of type', type(Number2))\n"
   ]
  },
  {
   "cell_type": "code",
   "execution_count": 7,
   "id": "17f9298f",
   "metadata": {},
   "outputs": [
    {
     "name": "stdout",
     "output_type": "stream",
     "text": [
      "True\n"
     ]
    }
   ],
   "source": [
    "5>1\n",
    "print(5>1)"
   ]
  },
  {
   "cell_type": "code",
   "execution_count": 8,
   "id": "f71cf9fb",
   "metadata": {},
   "outputs": [
    {
     "name": "stdout",
     "output_type": "stream",
     "text": [
      "<class 'str'>\n"
     ]
    }
   ],
   "source": [
    "'5'\n",
    "print(type('5'))\n"
   ]
  },
  {
   "cell_type": "code",
   "execution_count": 9,
   "id": "1923199b",
   "metadata": {},
   "outputs": [
    {
     "name": "stdout",
     "output_type": "stream",
     "text": [
      "<class 'int'>\n"
     ]
    }
   ],
   "source": [
    "5*2\n",
    "print(type(5 * 2))"
   ]
  },
  {
   "cell_type": "code",
   "execution_count": 10,
   "id": "f22681f8",
   "metadata": {},
   "outputs": [
    {
     "name": "stdout",
     "output_type": "stream",
     "text": [
      "<class 'str'>\n"
     ]
    }
   ],
   "source": [
    "'5'*2\n",
    "print(type('5' * 2))"
   ]
  },
  {
   "cell_type": "code",
   "execution_count": 11,
   "id": "db575474",
   "metadata": {},
   "outputs": [
    {
     "name": "stdout",
     "output_type": "stream",
     "text": [
      "<class 'str'>\n"
     ]
    }
   ],
   "source": [
    "'5'+'2'\n",
    "print(type('5' + ' 2'))"
   ]
  },
  {
   "cell_type": "code",
   "execution_count": 12,
   "id": "e102b657",
   "metadata": {},
   "outputs": [
    {
     "name": "stdout",
     "output_type": "stream",
     "text": [
      "<class 'float'>\n"
     ]
    }
   ],
   "source": [
    "5/2\n",
    "\n",
    "print(type(5 / 2))"
   ]
  },
  {
   "cell_type": "code",
   "execution_count": 13,
   "id": "c85785f2",
   "metadata": {},
   "outputs": [
    {
     "name": "stdout",
     "output_type": "stream",
     "text": [
      "<class 'int'>\n"
     ]
    }
   ],
   "source": [
    "5%2\n",
    "\n",
    "print(type(5 % 2))"
   ]
  },
  {
   "cell_type": "code",
   "execution_count": 14,
   "id": "8be109d3",
   "metadata": {},
   "outputs": [
    {
     "name": "stdout",
     "output_type": "stream",
     "text": [
      "<class 'set'>\n"
     ]
    }
   ],
   "source": [
    "{5,2,1}\n",
    "\n",
    "print(type({5, 2, 1}))"
   ]
  },
  {
   "cell_type": "code",
   "execution_count": 15,
   "id": "34ebdc61",
   "metadata": {},
   "outputs": [
    {
     "name": "stdout",
     "output_type": "stream",
     "text": [
      "<class 'bool'>\n"
     ]
    }
   ],
   "source": [
    "5 == 3 \n",
    "\n",
    "print(type(5 == 3))"
   ]
  },
  {
   "cell_type": "code",
   "execution_count": 28,
   "id": "7533c06b",
   "metadata": {
    "scrolled": true
   },
   "outputs": [
    {
     "name": "stdout",
     "output_type": "stream",
     "text": [
      "<class 'float'>\n"
     ]
    }
   ],
   "source": [
    "pi\n",
    "print(type(pi))"
   ]
  },
  {
   "cell_type": "markdown",
   "id": "ffe7bd4b",
   "metadata": {},
   "source": [
    "# Question 2\n",
    "Write (and evaluate) python expressions that answer these questions"
   ]
  },
  {
   "cell_type": "markdown",
   "id": "6eb94749",
   "metadata": {},
   "source": [
    "a. How many letters are there in 'Supercalifragilisticexpialidocious'?\n",
    "\n"
   ]
  },
  {
   "cell_type": "code",
   "execution_count": 1,
   "id": "4bd72c6a",
   "metadata": {},
   "outputs": [
    {
     "name": "stdout",
     "output_type": "stream",
     "text": [
      "Number of letters: 34\n"
     ]
    }
   ],
   "source": [
    "\n",
    "givenText = 'Supercalifragilisticexpialidocious'\n",
    "\n",
    "letter_count = 0\n",
    "for char in givenText:\n",
    "    if char.isalpha():\n",
    "        letter_count += 1\n",
    "        \n",
    "print(\"Number of letters:\", letter_count)"
   ]
  },
  {
   "cell_type": "markdown",
   "id": "919e9405",
   "metadata": {},
   "source": [
    "b.Does 'Supercalifragilisticexpialidocious' contain 'ice' as a substring?\n"
   ]
  },
  {
   "cell_type": "code",
   "execution_count": 2,
   "id": "652a735f",
   "metadata": {},
   "outputs": [
    {
     "name": "stdout",
     "output_type": "stream",
     "text": [
      "Yes, 'ice' is a substring of the givenString.\n"
     ]
    }
   ],
   "source": [
    "givenString = 'Supercalifragilisticexpialidocious'\n",
    "\n",
    "if 'ice' in givenString:\n",
    "    print(\"Yes, 'ice' is a substring of the givenString.\")\n",
    "else:\n",
    "    print(\"No, 'ice' is not a substring of the givenString.\")"
   ]
  },
  {
   "cell_type": "markdown",
   "id": "3268371a",
   "metadata": {},
   "source": [
    "c. Which of the following words is the longest:Supercalifragilisticexpialidocious, \n",
    "Honorificabilitudinitatibus, orBababadalgharaghtakamminarronnkonn?"
   ]
  },
  {
   "cell_type": "code",
   "execution_count": 5,
   "id": "7972b5bf",
   "metadata": {},
   "outputs": [
    {
     "name": "stdout",
     "output_type": "stream",
     "text": [
      "The longest word is: Supercalifragilisticexpialidocious\n"
     ]
    }
   ],
   "source": [
    "givenWords = [\n",
    "    'Supercalifragilisticexpialidocious',\n",
    "    'Honorificabilitudinitatibus',\n",
    "    'Bababadalgharaghtakamminarronnkonn'\n",
    "  ]\n",
    "    \n",
    "\n",
    "longestWord = max(givenWords, key=len)  #lfinding the longest word\n",
    "print(\"The longest word is:\", longestWord)"
   ]
  },
  {
   "cell_type": "markdown",
   "id": "059afe8d",
   "metadata": {},
   "source": [
    "d.Which composer comes first in the dictionary: 'Berlioz', 'Borodin', \n",
    "'Brian','Bartok', 'Bellini', 'Buxtehude', 'Bernstein'. Which one comes last?"
   ]
  },
  {
   "cell_type": "code",
   "execution_count": 8,
   "id": "ed0bdf48",
   "metadata": {},
   "outputs": [
    {
     "name": "stdout",
     "output_type": "stream",
     "text": [
      "The Composer that comes first is: Bartok\n",
      "The Composer that comes last is: Buxtehude\n"
     ]
    }
   ],
   "source": [
    "Composers = ['Berlioz', 'Borodin', 'Brian', 'Bartok', \n",
    "                  'Bellini', 'Buxtehude', 'Bernstein']\n",
    "\n",
    "Composers.sort()   #sorting the list\n",
    "first_Composer = Composers[0]\n",
    "last_Composer = Composers[-1]\n",
    "print(\"The Composer that comes first is:\", first_Composer)\n",
    "print(\"The Composer that comes last is:\", last_Composer)"
   ]
  },
  {
   "cell_type": "markdown",
   "id": "42f3ba3f",
   "metadata": {},
   "source": [
    "# Question 3"
   ]
  },
  {
   "cell_type": "raw",
   "id": "215062da",
   "metadata": {},
   "source": [
    "Implement function triangleArea(a,b,c) that takes as input the lengths of the\n",
    "3sides of a triangle and returns the area of the triangle. \n",
    "By Heron's formula, the areaof a triangle with side lengths a, b, \n",
    "and c is $\\sqrt{s(s - a)(s - b)(s - c)}$ where, s = (a + b + c) /2.\n",
    ">>> triangleArea(2,2,2)\n",
    "\n",
    "  1.732050807568877\n",
    "  \n",
    "  \n",
    "  "
   ]
  },
  {
   "cell_type": "code",
   "execution_count": 42,
   "id": "d7ac042e",
   "metadata": {},
   "outputs": [
    {
     "name": "stdout",
     "output_type": "stream",
     "text": [
      "The area of the triangle with side lengths 2, 2, and 2 is: 1.7320508075688772\n"
     ]
    }
   ],
   "source": [
    "import math\n",
    "\n",
    "def triangleArea(a, b, c):\n",
    "\n",
    "    s = (a + b + c) / 2    # Calculating the semi-perimeter (s)\n",
    "    area = math.sqrt(s * (s - a) * (s - b) * (s - c))    # Calculating  the area \n",
    "    return area\n",
    "\n",
    "result = triangleArea(2, 2, 2)\n",
    "print(\"The area of the triangle with side lengths 2, 2, and 2 is:\", result)"
   ]
  },
  {
   "cell_type": "markdown",
   "id": "d9e04f66",
   "metadata": {},
   "source": [
    "# Question 4\n",
    "Write a program in python to separate odd and even integers in separate arrays.\n",
    "Goto the editorTest Data :\n",
    "Input the number of elements to be stored in the array :5\n",
    "Input 5 elements in the array :\n",
    "element - 0 : 25\n",
    "element - 1 : 47\n",
    "element - 2 : 42\n",
    "element - 3 : 56\n",
    "element - 4 : 32\n",
    "Expected Output:\n",
    "The Even elements are:42 56 32\n",
    "The Odd elements are :25 47\n"
   ]
  },
  {
   "cell_type": "code",
   "execution_count": 45,
   "id": "9b84435a",
   "metadata": {},
   "outputs": [
    {
     "name": "stdout",
     "output_type": "stream",
     "text": [
      "Input the number of elements to be stored in the array: 5\n",
      "Element - 0 : 25\n",
      "Element - 1 : 47\n",
      "Element - 2 : 2\n",
      "Element - 3 : 56\n",
      "Element - 4 : 32\n",
      "The Even elements are: 2 56 32\n",
      "The Odd elements are: 25 47\n"
     ]
    }
   ],
   "source": [
    "# Input the no. of elements in the array\n",
    "numberOfelements = int(input(\"Input the number of elements to be stored in the array: \"))\n",
    "\n",
    "#Initialize empty arrays for even and odd numbers\n",
    "even_numbers = []\n",
    "odd_numbers = []\n",
    "\n",
    "#Input elements into the array and classify them as even or odd\n",
    "for i in range(numberOfelements):\n",
    "    element = int(input(f\"Element - {i} : \"))\n",
    "    if element % 2 == 0:\n",
    "        even_numbers.append(element)\n",
    "    else:\n",
    "        odd_numbers.append(element)\n",
    "\n",
    "#Displaying odd and even numbers of the element.\n",
    "print(\"The Even elements are:\", ' '.join(map(str, even_numbers)))\n",
    "print(\"The Odd elements are:\", ' '.join(map(str, odd_numbers)))"
   ]
  },
  {
   "cell_type": "markdown",
   "id": "4000fe2e",
   "metadata": {},
   "source": [
    "# Question 5 \n"
   ]
  },
  {
   "cell_type": "raw",
   "id": "b2ac7faf",
   "metadata": {},
   "source": [
    "a.  a function inside(x,y,x1,y1,x2,y2) that returns True or False \n",
    "depending oWriten whether the point (x,y) lies in the rectangle with lower left \n",
    "corner (x1,y1) and upper right corner (x2,y2).\n",
    ">>> inside(1,1,0,0,2,3)\n",
    "True\n",
    ">>> inside(-1,-1,0,0,2,3)\n",
    "False\n"
   ]
  },
  {
   "cell_type": "code",
   "execution_count": 1,
   "id": "a2901628",
   "metadata": {},
   "outputs": [
    {
     "name": "stdout",
     "output_type": "stream",
     "text": [
      "True\n",
      "False\n"
     ]
    }
   ],
   "source": [
    "def inside(x, y, x1, y1, x2, y2):\n",
    "    # Check if (x, y) lies inside the rectangle defined by (x1, y1) and (x2, y2)\n",
    "    return x1 <= x <= x2 and y1 <= y <= y2\n",
    "result1 = inside(1, 1, 0, 0, 2, 3)\n",
    "result2 = inside(-1, -1, 0, 0, 2, 3)\n",
    "\n",
    "print(result1)  \n",
    "print(result2)  "
   ]
  },
  {
   "cell_type": "raw",
   "id": "8d6be001",
   "metadata": {},
   "source": [
    "b.Use function inside() from part a. to write an expression that tests whether \n",
    "the point (1,1) lies in both of the following rectangles: one with lower left \n",
    "corner (0.3, 0.5) and upper right corner (1.1, 0.7) and the other with lower \n",
    "left corner (0.5, 0.2) and upper right corner (1.1, 2).\n"
   ]
  },
  {
   "cell_type": "code",
   "execution_count": 4,
   "id": "ddefedb1",
   "metadata": {},
   "outputs": [
    {
     "name": "stdout",
     "output_type": "stream",
     "text": [
      "The point (1,1) does not lie in both rectangles.\n"
     ]
    }
   ],
   "source": [
    "# Rectangle 1: (0.3, 0.5) to (1.1, 0.7)\n",
    "result1 = inside(1, 1, 0.3, 0.5, 1.1, 0.7)\n",
    "\n",
    "# Rectangle 2: (0.5, 0.2) to (1.1, 2)\n",
    "result2 = inside(1, 1, 0.5, 0.2, 1.1, 2)\n",
    "\n",
    "# Check if (1,1) lies in both rectangles\n",
    "if result1 and result2:\n",
    "    print(\"The point (1,1) lies in both rectangles.\")\n",
    "else:\n",
    "    print(\"The point (1,1) does not lie in both rectangles.\")"
   ]
  },
  {
   "cell_type": "markdown",
   "id": "17f2cce6",
   "metadata": {},
   "source": [
    "# Question 6\n"
   ]
  },
  {
   "cell_type": "raw",
   "id": "97d0e726",
   "metadata": {},
   "source": [
    "16. You can turn a word into pig-Latin using the following two rules (simplified):\n",
    "• If the word starts with a consonant, move that letter to the end and append \n",
    "'ay'. For example, 'happy' becomes 'appyhay' and 'pencil' becomes 'encilpay'.\n",
    "• If the word starts with a vowel, simply append 'way' to the end of the word. \n",
    "For example, 'enter' becomes 'enterway' and 'other' becomes 'otherway' . For \n",
    "our purposes, there are 5 vowels: a, e, i, o, u (so we count y as a consonant).\n",
    "Write a function pig() that takes a word (i.e., a string) as input and returns its pig\u0002Latin form. \n",
    "Your function should still work if the input word contains upper case \n",
    "characters. Your output should always be lower case however. \n",
    ">>> pig('happy')\n",
    "'appyhay'\n",
    ">>> pig('Enter')\n",
    "'enterway' \n"
   ]
  },
  {
   "cell_type": "code",
   "execution_count": 5,
   "id": "671fbef6",
   "metadata": {},
   "outputs": [
    {
     "name": "stdout",
     "output_type": "stream",
     "text": [
      "appyhay\n",
      "enterway\n"
     ]
    }
   ],
   "source": [
    "def pig(word):\n",
    "    # Convert the input word to lowercase\n",
    "    word = word.lower()\n",
    "\n",
    "    # Check if the word starts with a vowel\n",
    "    vowels = ['a', 'e', 'i', 'o', 'u']\n",
    "    if word[0] in vowels:\n",
    "        return word + 'way'\n",
    "    else:\n",
    "        # If it starts with a consonant, move the first letter to the end and append 'ay'\n",
    "        return word[1:] + word[0] + 'ay'\n",
    "\n",
    "# Test the pig function\n",
    "print(pig('happy')) \n",
    "print(pig('Enter'))"
   ]
  },
  {
   "cell_type": "markdown",
   "id": "0cfbb062",
   "metadata": {},
   "source": [
    "# Question 7"
   ]
  },
  {
   "cell_type": "raw",
   "id": "6dbe8205",
   "metadata": {},
   "source": [
    "File bloodtype1.txt records blood-types of patients (A, B, AB, O or OO) at a clinic. \n",
    "Write a function bldcount() that reads the file with name name and reports (i.e., \n",
    "prints) how many patients there are in each bloodtype.\n",
    ">>> bldcount('bloodtype.txt')\n",
    "There are 10 patients of blood type A.\n",
    "There is one patient of blood type B.\n",
    "There are 10 patients of blood type AB.\n",
    "There are 12 patients of blood type O.\n",
    "There are no patients of blood type OO."
   ]
  },
  {
   "cell_type": "code",
   "execution_count": 6,
   "id": "65c59f8f",
   "metadata": {},
   "outputs": [
    {
     "name": "stdout",
     "output_type": "stream",
     "text": [
      "File 'bloodtype.txt' not found.\n"
     ]
    }
   ],
   "source": [
    "\n",
    "\n",
    "\n",
    "\n",
    "\n",
    "\n",
    "\n"
   ]
  },
  {
   "cell_type": "markdown",
   "id": "6e66487d",
   "metadata": {},
   "source": [
    "# Question 8\n",
    "\n",
    "\n",
    "\n",
    "\n"
   ]
  },
  {
   "cell_type": "raw",
   "id": "6ae2b434",
   "metadata": {},
   "source": [
    "Write a function curconv() that takes as input:\n",
    "1. a currency represented using a string (e.g., 'JPY' for the Japanese Yen or \n",
    "'EUR' for the Euro)\n",
    "2. an amount\n",
    "and then converts and returns the amount in US dollars.\n",
    ">>> curconv('EUR', 100)\n",
    "122.96544\n",
    ">>> curconv('JPY', 100)\n",
    "1.241401\n",
    "The currency rates you will need are stored in file currencies.txt:\n",
    "AUD 1.0345157 Australian Dollar\n",
    "CHF 1.0237414 Swiss Franc\n",
    "CNY 0.1550176 Chinese Yuan\n",
    "DKK 0.1651442 Danish Krone\n",
    "EUR 1.2296544 Euro\n",
    "GBP 1.5550989 British Pound\n",
    "HKD 0.1270207 Hong Kong Dollar\n",
    "INR 0.0177643 Indian Rupee\n",
    "JPY 0.01241401 Japanese Yen\n",
    "MXN 0.0751848 Mexican Peso\n",
    "MYR 0.3145411 Malaysian Ringgit\n",
    "NOK 0.1677063 Norwegian Krone\n",
    "NZD 0.8003591 New Zealand Dollar\n",
    "PHP 0.0233234 Philippine Peso\n",
    "SEK 0.148269 Swedish Krona\n",
    "SGD 0.788871 Singapore Dollar\n",
    "THB 0.0313789 Thai Baht"
   ]
  },
  {
   "cell_type": "code",
   "execution_count": 55,
   "id": "ead00d5a",
   "metadata": {
    "scrolled": false
   },
   "outputs": [
    {
     "name": "stdout",
     "output_type": "stream",
     "text": [
      "122.96544\n",
      "1.241401\n"
     ]
    }
   ],
   "source": [
    "def curconv(currency, amount):\n",
    "    \n",
    "    file_path = \"C:/Users/rokad/Desktop/currencies.txt\"  # Define the full path\n",
    "    \n",
    "    exchange_rates = {} \n",
    "\n",
    "    # Read currency exchange rates from the file\n",
    "    try:\n",
    "        with open(file_path, 'r') as file:\n",
    "            for line in file:\n",
    "                parts = line.split()\n",
    "                if len(parts) >= 2:\n",
    "                    currency_code = parts[0]\n",
    "                    exchange_rate = float(parts[1])\n",
    "                    exchange_rates[currency_code] = exchange_rate\n",
    "    except FileNotFoundError:\n",
    "        return \"File 'currencies.txt' not found.\"\n",
    "\n",
    "    # Check if the provided currency code exists in the exchange rates\n",
    "    if currency in exchange_rates:\n",
    "        # Convert the amount to US dollars\n",
    "        us_dollars = amount * exchange_rates[currency]\n",
    "        return us_dollars\n",
    "    else:\n",
    "        return \"Currency code not found in the exchange rate data.\"\n",
    "print(curconv('EUR', 100)) \n",
    "print(curconv('JPY', 100)) "
   ]
  },
  {
   "cell_type": "markdown",
   "id": "a82a7e92",
   "metadata": {},
   "source": [
    "# Question 9"
   ]
  },
  {
   "cell_type": "raw",
   "id": "6d629429",
   "metadata": {},
   "source": [
    "\n",
    "Each of the following will cause an exception (an error). Identify what type of \n",
    "exception each will cause.\n",
    "Trying to add incompatible variables, as in \n",
    "adding 6 + ‘a’\n"
   ]
  },
  {
   "cell_type": "code",
   "execution_count": 56,
   "id": "325ab15f",
   "metadata": {},
   "outputs": [
    {
     "name": "stdout",
     "output_type": "stream",
     "text": [
      "This will cause a 'TypeError' exception \n"
     ]
    }
   ],
   "source": [
    "print(\"This will cause a 'TypeError' exception \")"
   ]
  },
  {
   "cell_type": "raw",
   "id": "0a2d5611",
   "metadata": {},
   "source": [
    "Referring to the 12th item of a list that has only 10 \n",
    "items"
   ]
  },
  {
   "cell_type": "code",
   "execution_count": 57,
   "id": "93ae3dc0",
   "metadata": {},
   "outputs": [
    {
     "name": "stdout",
     "output_type": "stream",
     "text": [
      " This will cause an 'IndexError' ecxeption\n"
     ]
    }
   ],
   "source": [
    "print(\" This will cause an 'IndexError' ecxeption\")"
   ]
  },
  {
   "cell_type": "raw",
   "id": "a017b8b9",
   "metadata": {},
   "source": [
    "Using a value that is out of range for a function’s \n",
    "input, such as calling math.sqrt(-1.0)\n"
   ]
  },
  {
   "cell_type": "code",
   "execution_count": 58,
   "id": "f40d9e68",
   "metadata": {},
   "outputs": [
    {
     "name": "stdout",
     "output_type": "stream",
     "text": [
      "This will cause a 'ValueError' type of exception\n"
     ]
    }
   ],
   "source": [
    "print(\"This will cause a 'ValueError' type of exception\")"
   ]
  },
  {
   "cell_type": "raw",
   "id": "b0f665d7",
   "metadata": {},
   "source": [
    "Using an undeclared variable, such as print(x)\n",
    "when x has not been defined"
   ]
  },
  {
   "cell_type": "code",
   "execution_count": 59,
   "id": "d5d99133",
   "metadata": {},
   "outputs": [
    {
     "name": "stdout",
     "output_type": "stream",
     "text": [
      "This will raise a 'NameError' because the variable 'x' has not been defined\n"
     ]
    }
   ],
   "source": [
    "print(\"This will raise a 'NameError' because the variable 'x' has not been defined\")"
   ]
  },
  {
   "cell_type": "raw",
   "id": "97bb0707",
   "metadata": {},
   "source": [
    "Trying to open a file that does not exist, such as \n",
    "mistyping the file name or looking in the wrong \n",
    "directory."
   ]
  },
  {
   "cell_type": "code",
   "execution_count": 60,
   "id": "22497704",
   "metadata": {},
   "outputs": [
    {
     "name": "stdout",
     "output_type": "stream",
     "text": [
      " If the file you are trying to open does not exist in the specified location it will cause 'FileNotFoundError'\n"
     ]
    }
   ],
   "source": [
    "print(\" If the file you are trying to open does not exist in the specified location it will cause 'FileNotFoundError'\")"
   ]
  },
  {
   "cell_type": "markdown",
   "id": "0336e951",
   "metadata": {},
   "source": [
    "# Question 10"
   ]
  },
  {
   "cell_type": "raw",
   "id": "c057e933",
   "metadata": {},
   "source": [
    "Encryption is the process of hiding the meaning of a text by substituting letters in the \n",
    "message with other letters, according to some system. If the process is successful, no \n",
    "one but the intended recipient can understand the encrypted message. Cryptanalysis\n",
    "refers to attempts to undo the encryption, even if some details of the encryption are \n",
    "unknown (for example, if an encrypted message has been intercepted). The first step \n",
    "of cryptanalysis is often to build up a table of letter frequencies in the encrypted text. \n",
    "Assume that the string letters is already defined as \n",
    "'abcdefghijklmnopqrstuvwxyz'. Write a function called frequencies()\n",
    "that takes a string as its only parameter, and returns a list of integers, showing the \n",
    "number of times each character appears in the text. Your function may ignore any \n",
    "characters that are not in letters. \n",
    ">>> frequencies('The quick red fox got bored and went home.')\n",
    "[1, 1, 1, 3, 5, 1, 1, 2, 1, 0, 1, 0, 1, 2, 4, 0, 1, 2, 0, 2, \n",
    "1, 0, 1, 1, 0, 0]\n",
    ">>> frequencies('apple')"
   ]
  },
  {
   "cell_type": "code",
   "execution_count": 61,
   "id": "b248e577",
   "metadata": {},
   "outputs": [
    {
     "name": "stdout",
     "output_type": "stream",
     "text": [
      "[1, 1, 1, 3, 5, 1, 1, 2, 1, 0, 1, 0, 1, 2, 4, 0, 1, 2, 0, 3, 1, 0, 1, 1, 0, 0]\n",
      "[1, 0, 0, 0, 1, 0, 0, 0, 0, 0, 0, 1, 0, 0, 0, 2, 0, 0, 0, 0, 0, 0, 0, 0, 0, 0]\n"
     ]
    }
   ],
   "source": [
    "def frequencies(text):\n",
    "    letters = 'abcdefghijklmnopqrstuvwxyz'\n",
    "    frequency_list = [0] * 26\n",
    "    text = text.lower()\n",
    "    for char in text:\n",
    "        if char in letters:\n",
    "            # If the character is in the letters string, update its frequency\n",
    "            index = letters.index(char)\n",
    "            frequency_list[index] += 1\n",
    "\n",
    "    return frequency_list\n",
    "print(frequencies('The quick red fox got bored and went home.'))\n",
    "print(frequencies('apple'))"
   ]
  },
  {
   "cell_type": "code",
   "execution_count": null,
   "id": "052e6474",
   "metadata": {},
   "outputs": [],
   "source": []
  }
 ],
 "metadata": {
  "kernelspec": {
   "display_name": "Python 3 (ipykernel)",
   "language": "python",
   "name": "python3"
  },
  "language_info": {
   "codemirror_mode": {
    "name": "ipython",
    "version": 3
   },
   "file_extension": ".py",
   "mimetype": "text/x-python",
   "name": "python",
   "nbconvert_exporter": "python",
   "pygments_lexer": "ipython3",
   "version": "3.11.4"
  }
 },
 "nbformat": 4,
 "nbformat_minor": 5
}
